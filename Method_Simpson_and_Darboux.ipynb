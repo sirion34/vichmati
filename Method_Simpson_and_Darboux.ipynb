{
  "nbformat": 4,
  "nbformat_minor": 0,
  "metadata": {
    "colab": {
      "name": "Method Simpson and Darboux.ipynb",
      "provenance": []
    },
    "kernelspec": {
      "name": "python3",
      "display_name": "Python 3"
    },
    "language_info": {
      "name": "python"
    }
  },
  "cells": [
    {
      "cell_type": "markdown",
      "source": [
        "Реализуем вычисление интеграла через сумму Дарбу и метод Симпсона. \n"
      ],
      "metadata": {
        "id": "BeGP9YZtZz-8"
      }
    },
    {
      "cell_type": "markdown",
      "source": [
        "# Метод Симпсона"
      ],
      "metadata": {
        "id": "b03B7Xf7hVQV"
      }
    },
    {
      "cell_type": "markdown",
      "source": [
        "![photo_2022-04-24_16-03-57.jpg](data:image/jpeg;base64,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)"
      ],
      "metadata": {
        "id": "cxzPhLoXrCF1"
      }
    },
    {
      "cell_type": "code",
      "source": [
        "import sympy\n",
        "import math\n",
        "\n",
        "x = sympy.Symbol('x')\n",
        " \n",
        "f_x = math.e**x\n",
        " \n",
        "def MethodSympson(left, right, n, function):\n",
        "    h = (right - left) / (2 * n)\n",
        " \n",
        "    integral = float(function.subs({x: left}))\n",
        "\n",
        "    for step in range(1, 2 * n):\n",
        "        if step % 2 != 0:\n",
        "            integral += 4 * float(function.subs({x: left + step * h}))\n",
        "        else:\n",
        "            integral += 2 * float(function.subs({x: left + step * h}))\n",
        "  \n",
        "    integral += float(function.subs({x: right}))\n",
        "    \n",
        "    return integral * h / 3\n",
        "\n",
        " \n",
        "print(MethodSympson(0, 1, 3, f_x))\n",
        "print(math.e**1 - math.e**0)"
      ],
      "metadata": {
        "colab": {
          "base_uri": "https://localhost:8080/"
        },
        "id": "vzLgQseCeKsX",
        "outputId": "0b7f5243-07c1-4e07-88a7-859e4d468d8e"
      },
      "execution_count": 161,
      "outputs": [
        {
          "output_type": "stream",
          "name": "stdout",
          "text": [
            "1.7182891699208316\n",
            "1.718281828459045\n"
          ]
        }
      ]
    },
    {
      "cell_type": "markdown",
      "source": [
        "Посчитаем интегралы через метод Симпсона"
      ],
      "metadata": {
        "id": "FPNtbZbkrUs9"
      }
    },
    {
      "cell_type": "code",
      "source": [
        "x = sympy.Symbol('x')\n",
        "func_1  = x*sympy.log(1+x**2)\n",
        "\n",
        "func_1"
      ],
      "metadata": {
        "colab": {
          "base_uri": "https://localhost:8080/",
          "height": 38
        },
        "id": "Hl6YRs1tfJ5f",
        "outputId": "d80552d3-b871-4b11-b775-9885acf03dde"
      },
      "execution_count": 145,
      "outputs": [
        {
          "output_type": "execute_result",
          "data": {
            "text/plain": [
              "x*log(x**2 + 1)"
            ],
            "text/latex": "$\\displaystyle x \\log{\\left(x^{2} + 1 \\right)}$"
          },
          "metadata": {},
          "execution_count": 145
        }
      ]
    },
    {
      "cell_type": "code",
      "source": [
        "print(f'Integral of the: {func_1} in the range from {0}, to {2} is equal to {MethodSympson(0, 2, 5, func_1)}')\n",
        "\n",
        "print(f'Integral of the: {func_1} in the range from {0}, to {10} is equal to {MethodSympson(0, 10, 5, func_1)}')\n",
        "\n",
        "print(f'Integral of the: {func_1} in the range from {-2}, to {2} is equal to {MethodSympson(-2, 2, 10, func_1)}')\n"
      ],
      "metadata": {
        "colab": {
          "base_uri": "https://localhost:8080/"
        },
        "id": "EryK9VUIqdK2",
        "outputId": "5a1799d2-d251-423a-ee54-87c13ef56d94"
      },
      "execution_count": 162,
      "outputs": [
        {
          "output_type": "stream",
          "name": "stdout",
          "text": [
            "Integral of the: x*log(x**2 + 1) in the range from 0, to 2 is equal to 2.023533257812816\n",
            "Integral of the: x*log(x**2 + 1) in the range from 0, to 10 is equal to 183.03998416425293\n",
            "Integral of the: x*log(x**2 + 1) in the range from -2, to 2 is equal to 3.256654205567126e-16\n"
          ]
        }
      ]
    },
    {
      "cell_type": "code",
      "source": [
        "x = sympy.Symbol('x')\n",
        "func_2  = x**2*sympy.log(1+x**2)\n",
        "\n",
        "func_2"
      ],
      "metadata": {
        "colab": {
          "base_uri": "https://localhost:8080/",
          "height": 38
        },
        "id": "fNwumN3BqkUW",
        "outputId": "f0be6ccb-74f2-4e80-e9ec-40391c7682ca"
      },
      "execution_count": 148,
      "outputs": [
        {
          "output_type": "execute_result",
          "data": {
            "text/plain": [
              "x**2*log(x**2 + 1)"
            ],
            "text/latex": "$\\displaystyle x^{2} \\log{\\left(x^{2} + 1 \\right)}$"
          },
          "metadata": {},
          "execution_count": 148
        }
      ]
    },
    {
      "cell_type": "code",
      "source": [
        "print(f'Integral of the: {func_2} in the range from {0}, to {2} is equal to {MethodSympson(0, 2, 5, func_2)}')\n",
        "\n",
        "print(f'Integral of the: {func_2} in the range from {0}, to {10} is equal to {MethodSympson(0, 10, 5, func_2)}')\n",
        "\n",
        "print(f'Integral of the: {func_2} in the range from {-2}, to {2} is equal to {MethodSympson(-2, 2, 50, func_2)}')"
      ],
      "metadata": {
        "colab": {
          "base_uri": "https://localhost:8080/"
        },
        "id": "w9Dn7K1fqnHE",
        "outputId": "bcd17459-6c43-4e57-d6e9-08fe52d347f6"
      },
      "execution_count": 164,
      "outputs": [
        {
          "output_type": "stream",
          "name": "stdout",
          "text": [
            "Integral of the: x**2*log(x**2 + 1) in the range from 0, to 2 is equal to 3.1093100947308296\n",
            "Integral of the: x**2*log(x**2 + 1) in the range from 0, to 10 is equal to 1321.7889644333773\n",
            "Integral of the: x**2*log(x**2 + 1) in the range from -2, to 2 is equal to 6.218581748920459\n"
          ]
        }
      ]
    },
    {
      "cell_type": "markdown",
      "source": [
        "# Аналитическое вычисление"
      ],
      "metadata": {
        "id": "qNQma9l7rbLK"
      }
    },
    {
      "cell_type": "markdown",
      "source": [
        "Мы нашли аналитическое решение интегралов, поэтому можем точно подсчитать их значения."
      ],
      "metadata": {
        "id": "wBZPpb0_rkUu"
      }
    },
    {
      "cell_type": "code",
      "source": [
        "func1_2 = (1/2)*((x**2+1)*sympy.log(1+x**2)-(x**2+1))\n",
        "func1_2"
      ],
      "metadata": {
        "colab": {
          "base_uri": "https://localhost:8080/",
          "height": 38
        },
        "id": "nxioX574knvi",
        "outputId": "e4aed1c8-5685-4437-899d-47b5e1aabba3"
      },
      "execution_count": 158,
      "outputs": [
        {
          "output_type": "execute_result",
          "data": {
            "text/plain": [
              "-0.5*x**2 + 0.5*(x**2 + 1)*log(x**2 + 1) - 0.5"
            ],
            "text/latex": "$\\displaystyle - 0.5 x^{2} + 0.5 \\left(x^{2} + 1\\right) \\log{\\left(x^{2} + 1 \\right)} - 0.5$"
          },
          "metadata": {},
          "execution_count": 158
        }
      ]
    },
    {
      "cell_type": "code",
      "source": [
        "print(f'in the range from {0} to {2} is equal to {float((1/2)*((2**2+1)*sympy.log(1+2**2)-(2**2+1)) - ((1/2)*((0**2+1)*sympy.log(1+0**2)-(0**2+1))))}')\n",
        "print(f'in the range from {0} to {10} is equal to {float((1/2)*((10**2+1)*sympy.log(1+10**2)-(10**2+1)) - ((1/2)*((0**2+1)*sympy.log(1+0**2)-(0**2+1))))}')\n",
        "print(f'in the range from {-2} to {2} is equal to {float((1/2)*((2**2+1)*sympy.log(1+2**2)-(2**2+1)) - ((1/2)*((2**2+1)*sympy.log(1+2**2)-(2**2+1))))}')"
      ],
      "metadata": {
        "colab": {
          "base_uri": "https://localhost:8080/"
        },
        "id": "wLJw4NLcrqQk",
        "outputId": "621273bc-262b-4fa0-c563-93c36e2ef415"
      },
      "execution_count": 160,
      "outputs": [
        {
          "output_type": "stream",
          "name": "stdout",
          "text": [
            "in the range from 0 to 2 is equal to 2.023594781085251\n",
            "in the range from 0 to 10 is equal to 183.0635861004836\n",
            "in the range from -2 to 2 is equal to 0.0\n"
          ]
        }
      ]
    },
    {
      "cell_type": "code",
      "source": [
        "x = sympy.Symbol('x')\n",
        "func2_2 = (1/3)*(x**3)*sympy.log(1+x**2)-(2/9)*(x**3) + (2/3)*x - (2/3)*sympy.atan(x)\n",
        "func2_2"
      ],
      "metadata": {
        "colab": {
          "base_uri": "https://localhost:8080/",
          "height": 38
        },
        "id": "Fam42fHJD0JO",
        "outputId": "52b6f123-191f-41c2-d37a-ccb39fdd4adf"
      },
      "execution_count": 136,
      "outputs": [
        {
          "output_type": "execute_result",
          "data": {
            "text/plain": [
              "0.333333333333333*x**3*log(x**2 + 1) - 0.222222222222222*x**3 + 0.666666666666667*x - 0.666666666666667*atan(x)"
            ],
            "text/latex": "$\\displaystyle 0.333333333333333 x^{3} \\log{\\left(x^{2} + 1 \\right)} - 0.222222222222222 x^{3} + 0.666666666666667 x - 0.666666666666667 \\operatorname{atan}{\\left(x \\right)}$"
          },
          "metadata": {},
          "execution_count": 136
        }
      ]
    },
    {
      "cell_type": "code",
      "source": [
        "print(f'in the range from {0} to {2} is equal to {float((1/3)*(2**3)*sympy.log(1+2**2)-(2/9)*(2**3) + (2/3)*2 - (2/3)*sympy.atan(2) - (1/3)*(0**3)*sympy.log(1+0**2)-(2/9)*(0**3) + (2/3)*0 - (2/3)*sympy.atan(0))}')\n",
        "print(f'in the range from {0} to {10} is equal to {float((1/3)*(10**3)*sympy.log(1+10**2)-(2/9)*(10**3) + (2/3)*2 - (2/3)*sympy.atan(10) - (1/3)*(0**3)*sympy.log(1+0**2)-(2/9)*(0**3) + (2/3)*0 - (2/3)*sympy.atan(0))}')\n",
        "print(f'in the range from {-2} to {2} is equal to {float((1/3)*(2**3)*sympy.log(1+2**2)-(2/9)*(2**3) + (2/3)*2 - (2/3)*sympy.atan(2) - (1/3)*((-2)**3)*sympy.log(1+(-2)**2)-(2/9)*((-2)**3) + (2/3)*(-2) - (2/3)*sympy.atan(-2))}')"
      ],
      "metadata": {
        "colab": {
          "base_uri": "https://localhost:8080/"
        },
        "id": "1aqcmCXiFJqN",
        "outputId": "5c7a1038-5f41-4f9a-b5f2-a44936119e01"
      },
      "execution_count": 165,
      "outputs": [
        {
          "output_type": "stream",
          "name": "stdout",
          "text": [
            "in the range from 0 to 2 is equal to 3.109290843517096\n",
            "in the range from 0 to 10 is equal to 1316.503864941995\n",
            "in the range from -2 to 2 is equal to 8.583668866315202\n"
          ]
        }
      ]
    },
    {
      "cell_type": "markdown",
      "source": [
        "# Суммы Дарбу"
      ],
      "metadata": {
        "id": "sWMRIbg9iUqg"
      }
    },
    {
      "cell_type": "code",
      "source": [
        "import sympy\n",
        "import math\n",
        "\n",
        "x = sympy.Symbol('x')\n",
        " \n",
        "f_x = math.e**x\n",
        " \n",
        "def SummDarboux(left, right, n, function):\n",
        "\n",
        "    integral = 0 \n",
        "    h = (right - left) / n\n",
        "    for step in range(n):\n",
        "        integral += float(function.subs({x: left + step * h}))*h\n",
        "    \n",
        "    return integral \n",
        "\n",
        " \n",
        "print(SummDarboux(0, 1, 1000, f_x))\n",
        "print(math.e**1 - math.e**0)"
      ],
      "metadata": {
        "colab": {
          "base_uri": "https://localhost:8080/"
        },
        "id": "4Yu8-0sWiXr8",
        "outputId": "210898b8-68fe-4c82-fba9-bc48f7ee6cbe"
      },
      "execution_count": 146,
      "outputs": [
        {
          "output_type": "stream",
          "name": "stdout",
          "text": [
            "1.7174228307349653\n",
            "1.718281828459045\n"
          ]
        }
      ]
    },
    {
      "cell_type": "code",
      "source": [
        "print(f'Integral of the: {func_1} in the range from {0}, to {2} is equal to {SummDarboux(0, 2, 1000, func_1)}')\n",
        "\n",
        "print(f'Integral of the: {func_1} in the range from {0}, to {10} is equal to {SummDarboux(0, 10, 1000, func_1)}')\n",
        "\n",
        "print(f'Integral of the: {func_1} in the range from {-2}, to {2} is equal to {SummDarboux(-2, 2, 1000, func_1)}')\n"
      ],
      "metadata": {
        "colab": {
          "base_uri": "https://localhost:8080/"
        },
        "id": "ALq6OQrbkh8l",
        "outputId": "3eae8baf-59f4-4170-f290-18cf41ec88ed"
      },
      "execution_count": 147,
      "outputs": [
        {
          "output_type": "stream",
          "name": "stdout",
          "text": [
            "Integral of the: x*log(x**2 + 1) in the range from 0, to 2 is equal to 2.0203769750731673\n",
            "Integral of the: x*log(x**2 + 1) in the range from 0, to 10 is equal to 182.83288503571302\n",
            "Integral of the: x*log(x**2 + 1) in the range from -2, to 2 is equal to -0.012875503299472601\n"
          ]
        }
      ]
    },
    {
      "cell_type": "code",
      "source": [
        "print(f'Integral of the: {func_2} in the range from {0}, to {2} is equal to {SummDarboux(0, 2, 1000, func_1)}')\n",
        "\n",
        "print(f'Integral of the: {func_2} in the range from {0}, to {10} is equal to {SummDarboux(0, 10, 1000, func_1)}')\n",
        "\n",
        "print(f'Integral of the: {func_2} in the range from {-2}, to {2} is equal to {SummDarboux(-2, 2, 1000, func_1)}')"
      ],
      "metadata": {
        "colab": {
          "base_uri": "https://localhost:8080/"
        },
        "id": "okmpgWLakwpJ",
        "outputId": "4af14d13-1d1f-4758-87c4-5a71e70050ef"
      },
      "execution_count": 149,
      "outputs": [
        {
          "output_type": "stream",
          "name": "stdout",
          "text": [
            "Integral of the: x**2*log(x**2 + 1) in the range from 0, to 2 is equal to 2.0203769750731673\n",
            "Integral of the: x**2*log(x**2 + 1) in the range from 0, to 10 is equal to 182.83288503571302\n",
            "Integral of the: x**2*log(x**2 + 1) in the range from -2, to 2 is equal to -0.012875503299472601\n"
          ]
        }
      ]
    },
    {
      "cell_type": "markdown",
      "source": [
        "Получилось примерно как у Симпсона (но хуже)"
      ],
      "metadata": {
        "id": "-nOTKXmtk1yN"
      }
    }
  ]
}
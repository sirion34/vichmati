{
  "nbformat": 4,
  "nbformat_minor": 0,
  "metadata": {
    "kernelspec": {
      "display_name": "Python 3",
      "language": "python",
      "name": "python3"
    },
    "language_info": {
      "codemirror_mode": {
        "name": "ipython",
        "version": 3
      },
      "file_extension": ".py",
      "mimetype": "text/x-python",
      "name": "python",
      "nbconvert_exporter": "python",
      "pygments_lexer": "ipython3",
      "version": "3.7.1"
    },
    "colab": {
      "name": "Tfive (2).ipynb",
      "provenance": [],
      "collapsed_sections": [
        "cdWOCrNdu4DC",
        "rz4keJUUG7fm",
        "KP0NYsZhG7fo"
      ]
    }
  },
  "cells": [
    {
      "cell_type": "markdown",
      "metadata": {
        "id": "sGKpu4JzG7fd",
        "colab_type": "text"
      },
      "source": [
        "Глеб Шульдяков 743\n"
      ]
    },
    {
      "cell_type": "markdown",
      "metadata": {
        "id": "oTwrJUenG7fe",
        "colab_type": "text"
      },
      "source": [
        "# ЗАДАЧА\n"
      ]
    },
    {
      "cell_type": "markdown",
      "metadata": {
        "id": "eAgICG2pG7ff",
        "colab_type": "text"
      },
      "source": [
        "$\\;\\;\\;\\;$Распад плоского разрыва при высокоскоростном ударе конденсированных веществ может происходить с образованием двух ударных волн и контактного разрыва. Припишем газодинамическим параметрам перед первой ударной волной индекс \"0\", между фронтом первой ударной волны и контактным разрывом - \"1\", между контактным разрывом и фронтом второй ударной волны - \"2\", невозмущённому веществу перед второй ударной волной - \"3\". На ударных волнах выполняются законы сохранения массы, количества движения и справедливы адиабаты ударного сжатия (Гюгонио): \n",
        "\n",
        "$\\ \\rho_1(U_1 - D_0) = \\rho_0(U_0 - D_0)\\, ,$\n",
        "\n",
        "$\\ P_1 + \\rho_1(U_1 - D_0)^2 = P_0 + \\rho_0(U_0 - D_0)^2\\, , $\n",
        "\n",
        "$\\ P_1 = \\frac{\\alpha_0(\\rho_1 - \\rho_0)}{\\rho_0 h_0 - \\rho_1}\\, ,$\n",
        "\n",
        "$\\ \\rho_3(U_3 - D_3) = \\rho_2(U_2 - D_3)\\, ,$\n",
        "\n",
        "$\\ P_3 + \\rho_3(U_3 - D_3)^2 = P_2 + \\rho_2(U_2 - D_3)^2\\, ,$\n",
        "\n",
        "$\\ P_2 = \\frac{\\alpha_3(\\rho_2 - \\rho_3)}{\\rho_3 h_3 - \\rho_2}\\, ,$\n",
        "\n",
        "а также соотношения при контактном разрыве\n",
        "\n",
        "$\\ P_2 = P_1\\, ,$\n",
        "\n",
        "$\\ U_2 = U_1\\, ,$\n",
        "\n",
        "где $\\rho$ - плотность, $U$ - массовая скорость вещества, $P$ - давление, $D$ - скорость фронта ударной волны; $\\gamma_i$ - показатель адиабаты, \n",
        "\n",
        "$\\ \\alpha_i = \\rho_iC_i^2(h_i-1),\\, h_i = (\\gamma_i + 1)/(\\gamma_i - 1)\\, ,$\n",
        "\n",
        "$C_i$ - постоянная $i$ вещества, $i = 0, 3$ в соответствующих областях. Определить скорости ударных волн $D_0$ и $D_3$."
      ]
    },
    {
      "cell_type": "markdown",
      "metadata": {
        "id": "Co2rtGFtG7ff",
        "colab_type": "text"
      },
      "source": [
        "# Начальные условия"
      ]
    },
    {
      "cell_type": "markdown",
      "metadata": {
        "id": "xLdn5PweG7fg",
        "colab_type": "text"
      },
      "source": [
        "### Задание № 5\n",
        "\n",
        "$\\gamma_0 =3;\\;\\rho_0 = 100\\;\\text{г}/\\text{см}^3;\\;U_0 = 0 \\text{см/с}\\,;$\n",
        "\n",
        "$P_0 = 0\\;\\text{дин}/\\text{см}^2;\\; C_0 = 4,65\\cdot10^5\\;\\text{см/с}\\, .$\n",
        "\n",
        "$\\gamma_3 =3;\\;\\rho_3 = 13,76163\\;\\text{г}/\\text{см}^3;\\;U_3 = 5,322389\\cdot10^5\\; \\text{см/с}\\,;$\n",
        "\n",
        "$P_3 = 5,176613\\cdot10^{12}\\;\\text{дин}/\\text{см}^2;\\; C_3 = 4,65\\cdot10^5\\;\\text{см/с}\\, .$"
      ]
    },
    {
      "cell_type": "markdown",
      "metadata": {
        "id": "KYx422lpG7fh",
        "colab_type": "text"
      },
      "source": [
        "# Решение"
      ]
    },
    {
      "cell_type": "markdown",
      "metadata": {
        "id": "Q6QcTRONG7fh",
        "colab_type": "text"
      },
      "source": [
        " После большого количества преобразований получим уравнение в виде:\n",
        "\n",
        "$\\sum\\limits_{i=1}^n a_iY^{6-i} = 0\\, ,$\n",
        "\n",
        "Коэффициенты $\\alpha_i$ описаны в учебнике но мне лень их техать сюда, поэтому подставлю сразу в коде ниже."
      ]
    },
    {
      "cell_type": "markdown",
      "metadata": {
        "id": "h8FzThrcut6Z",
        "colab_type": "text"
      },
      "source": [
        "### Будем использовать библиотеку Sympy \n",
        "https://www.sympy.org/en/index.html"
      ]
    },
    {
      "cell_type": "code",
      "metadata": {
        "id": "N_iH3zZ2G7fi",
        "colab_type": "code",
        "colab": {}
      },
      "source": [
        "from sympy import * \n",
        "init_printing()"
      ],
      "execution_count": 0,
      "outputs": []
    },
    {
      "cell_type": "markdown",
      "metadata": {
        "id": "cdWOCrNdu4DC",
        "colab_type": "text"
      },
      "source": [
        "### Создаем массивы с нашими исходными данными, неизвестные значения примем за 0"
      ]
    },
    {
      "cell_type": "code",
      "metadata": {
        "id": "1JzebWE-G7fk",
        "colab_type": "code",
        "colab": {}
      },
      "source": [
        "gamma = [3 for i in range(4)]\n",
        "rho = [100, 0, 0, 13.76163]\n",
        "P = [0, 0, 0, 5.176613*10**12]\n",
        "C = [4.65*10**5, 0, 0, 4.65*10**5]\n",
        "U = [0, 0, 0, 5.322389*10**5]\n",
        "D = [0, 0, 0, 0]"
      ],
      "execution_count": 0,
      "outputs": []
    },
    {
      "cell_type": "markdown",
      "metadata": {
        "id": "rz4keJUUG7fm",
        "colab_type": "text"
      },
      "source": [
        "### Составляем уравнения, делаем обозначения для переменных"
      ]
    },
    {
      "cell_type": "code",
      "metadata": {
        "id": "vj2o0UYqG7fm",
        "colab_type": "code",
        "colab": {}
      },
      "source": [
        "alpha_0 = Symbol('alpha_0')\n",
        "alpha_3 = Symbol('alpha_3')\n",
        "\n",
        "beta_0 = Symbol('beta_0')\n",
        "beta_3 = Symbol('beta_3')\n",
        "\n",
        "gamma_0 = Symbol('gamma_0')\n",
        "gamma_3 = Symbol('gamma_3')\n",
        "\n",
        "delta_0 = Symbol('delta_0')\n",
        "delta_3 = Symbol('delta_3')\n",
        "\n",
        "###########################\n",
        "\n",
        "a_0 = Symbol('a_0')\n",
        "a_1 = Symbol('a_1')\n",
        "a_2 = Symbol('a_2')\n",
        "a_3 = Symbol('a_3')\n",
        "a_4 = Symbol('a_4')\n",
        "a_5 = Symbol('a_5')\n",
        "a_6 = Symbol('a_6')\n",
        "\n",
        "###########################\n",
        "\n",
        "rho_0 = Symbol('rho_0')\n",
        "rho_1 = Symbol('rho_1')\n",
        "rho_2 = Symbol('rho_2')\n",
        "rho_3 = Symbol('rho_3')\n",
        "\n",
        "P_0 = Symbol('P_0')\n",
        "P_1 = Symbol('P_1')\n",
        "P_2 = Symbol('P_2')\n",
        "P_3 = Symbol('P_3')\n",
        "\n",
        "C_0 = Symbol('C_0')\n",
        "C_1 = Symbol('C_1')\n",
        "C_2 = Symbol('C_2')\n",
        "C_3 = Symbol('C_3')\n",
        "\n",
        "U_0 = Symbol('U_0')\n",
        "U_1 = Symbol('U_1')\n",
        "U_2 = Symbol('U_2')\n",
        "U_3 = Symbol('U_3')\n",
        "\n",
        "D_0 = Symbol('D_0')\n",
        "D_3 = Symbol('D_3')\n",
        "\n",
        "h_0 = Symbol('h_0')\n",
        "h_3 = Symbol('h_3')\n",
        "\n",
        "###########################\n",
        "\n",
        "Y = Symbol('Y')\n",
        "X = Symbol('X')\n",
        "V = Symbol('V')\n",
        "e = Symbol('e')\n",
        "\n",
        "###########################\n",
        "\n",
        "h_0 = (gamma_0 + 1)/(gamma_0 - 1)\n",
        "\n",
        "h_3 = (gamma_3 + 1)/(gamma_3 - 1)\n",
        "\n",
        "alpha_0 = rho_0*C_0**2*(h_0 - 1)\n",
        "\n",
        "alpha_3 = rho_3*C_3**2*(h_3 - 1)\n",
        "\n",
        "X = P_3/(rho_0*rho_3*V**2)\n",
        "\n",
        "beta_0 = alpha_0/(rho_0*rho_3*V**2)\n",
        "\n",
        "beta_3 = alpha_3/(rho_0*rho_3*V**2)\n",
        "\n",
        "delta_0 = (h_0 - 1)*rho_3\n",
        "\n",
        "delta_3 = (h_3 - 1)*rho_0\n",
        "\n",
        "e = P_0/(rho_0*rho_3*V**2)\n",
        "\n",
        "################################################################################\n",
        "\n",
        "a_0 = (delta_0*h_3 - delta_3*h_0)**2\n",
        "\n",
        "a_1 = 2*(h_3*delta_0**2*(beta_3 - h_3 * e) +\n",
        "         h_0*delta_3**2 * (beta_0-X*h_0) -\n",
        "         h_0 * h_3 * (delta_0*h_3 + delta_3 * h_0) -\n",
        "         delta_0*delta_3*(h_0*beta_3 + h_3*beta_0) +\n",
        "         delta_0*delta_3*h_0*h_3*(X + e))\n",
        "\n",
        "a_2 = (h_0**2*h_3**2 + delta_0**2*(h_3**2*e**2 + beta_3**2 - 4*beta_3*h_3*e) + \n",
        "        delta_3**2*(beta_0**2 + h_0**2*X**2 - 4*beta_0*X*h_0) - \n",
        "        2*delta_0*h_3*(2*beta_3*h_0 + h_3*beta_0 - e*h_0*h_3) - \n",
        "        2*delta_3*h_0*(2*beta_0*h_3 + h_0*beta_3 - h_0*h_3*X) - \n",
        "        2*delta_0*delta_3*(X*e*h_0*h_3 + beta_3*beta_0) +\n",
        "        2*delta_0*delta_3*(X + e)*(beta_3*h_0 + h_3*beta_0))\n",
        "\n",
        "a_3 = 2*(h_0*h_3*(beta_0*h_3 + beta_3*h_0) + \n",
        "         delta_0**2*e*beta_3*(h_3*e - beta_3) + \n",
        "        (X*h_0 - beta_0)*delta_3**2*beta_0*X -\n",
        "         delta_0*(h_0*beta_3**2 - e*beta_0*h_3**2) - \n",
        "        2*delta_0*h_3*beta_3*(beta_0 - e*h_0) - \n",
        "         delta_3*(h_3*beta_0**2 - X*beta_3*h_0**2) - \n",
        "        2*delta_3*beta_0*h_0*(beta_3 - X*h_3) - \n",
        "         e*delta_3*delta_0*X*(h_0*beta_3 + h_3*beta_0) + \n",
        "         delta_0*delta_3*beta_0*beta_3*(X + e))\n",
        "\n",
        "a_4 = (beta_0**2*h_3**2 + beta_3**2*h_0**2 +\n",
        "       4*beta_0*beta_3*h_0*h_3 + \n",
        "       delta_0**2*beta_3**2*e**2 + \n",
        "       delta_3**2*beta_0**2*X**2 - \n",
        "      2*delta_0*(beta_0*beta_3**2 - e*beta_3**2*h_0 - 2*e*h_3*beta_0*beta_3) - \n",
        "      2*delta_3*beta_0*(beta_0*(beta_3 - X*h_3) - 2*beta_3*X*h_0) - \n",
        "      2*e*delta_0*delta_3*beta_0*beta_3*X)\n",
        "\n",
        "a_5 = 2*(beta_0*beta_3*(beta_0*h_3 + beta_3*h_0) +\n",
        "         beta_0*beta_3*(delta_0*e*beta_3 + delta_3*X*beta_0))\n",
        "\n",
        "a_6 = beta_0**2*beta_3**2\n",
        "\n",
        "################################################################################\n",
        "\n",
        "a = [a_0, a_1, a_2, a_3, a_4, a_5, a_6]\n",
        "\n",
        "\n",
        "\n"
      ],
      "execution_count": 0,
      "outputs": []
    },
    {
      "cell_type": "markdown",
      "metadata": {
        "id": "KP0NYsZhG7fo",
        "colab_type": "text"
      },
      "source": [
        "### Делаем подстановку"
      ]
    },
    {
      "cell_type": "code",
      "metadata": {
        "id": "7-A36dzCG7fp",
        "colab_type": "code",
        "outputId": "8bb6abaf-2cf7-4f8d-e66f-837d74ff123b",
        "colab": {
          "base_uri": "https://localhost:8080/",
          "height": 34
        }
      },
      "source": [
        "for i in range(len(a)):\n",
        "    a[i] = a[i].subs({gamma_0:gamma[0],\n",
        "                      gamma_3:gamma[3], \n",
        "                      rho_0:rho[0],\n",
        "                      rho_3:rho[3],\n",
        "                      P_0:P[0],\n",
        "                      P_3:P[3], \n",
        "                      C_0:C[0],\n",
        "                      C_3:C[3],\n",
        "                      V:(U[0] - U[3])\n",
        "                    })\n",
        "    \n",
        "equation = sum(a[i]*Y**(6-i) for i in range(len(a)))\n",
        "\n",
        "a"
      ],
      "execution_count": 9,
      "outputs": [
        {
          "output_type": "execute_result",
          "data": {
            "image/png": "[encoded data removed]",
            "text/latex": "$$\\left [ 29748.2258410276, \\quad -859.24109171413, \\quad -83.0382157749148, \\quad 0.239669128512451, \\quad 0.0407899124201078, \\quad 0.000169218368669841, \\quad 1.7923836186324 \\cdot 10^{-7}\\right ]$$",
            "text/plain": [
              "[29748.2258410276, -859.24109171413, -83.0382157749148, 0.239669128512451, 0.0\n",
              "407899124201078, 0.000169218368669841, 1.7923836186324e-7]"
            ]
          },
          "metadata": {
            "tags": []
          },
          "execution_count": 9
        }
      ]
    },
    {
      "cell_type": "markdown",
      "metadata": {
        "id": "mcqGiPvbG7fr",
        "colab_type": "text"
      },
      "source": [
        "### Используем теорему Бюдана-Фурье, для локализации корней"
      ]
    },
    {
      "cell_type": "code",
      "metadata": {
        "id": "RWRnDRjmG7fr",
        "colab_type": "code",
        "colab": {}
      },
      "source": [
        "def theorem_b_f(equation, variable, N, interval):\n",
        "\n",
        "    diffs= [diff(equation, variable, i) for i in range(N+1)]\n",
        "\n",
        "    diffs_subs = [[elem.subs({variable:interval[0]}),\n",
        "                   elem.subs({variable:interval[1]})] for elem in diffs]\n",
        "\n",
        "    left_signs_changes = 0\n",
        "    right_signs_changes = 0\n",
        "\n",
        "    for i in range(len(diffs_subs) - 1):\n",
        "        if diffs_subs[i][0] * diffs_subs[i+1][0] < 0:\n",
        "            left_signs_changes += 1\n",
        "        if diffs_subs[i][1] * diffs_subs[i+1][1] < 0:\n",
        "            right_signs_changes += 1\n",
        "            \n",
        "    number_of_roots = left_signs_changes - right_signs_changes\n",
        "    return number_of_roots    \n",
        "\n"
      ],
      "execution_count": 0,
      "outputs": []
    },
    {
      "cell_type": "markdown",
      "metadata": {
        "id": "HN3ugNCyuSsa",
        "colab_type": "text"
      },
      "source": [
        "### Создаем функцию, которая находит промежуток, в котором находятся корни.\n"
      ]
    },
    {
      "cell_type": "code",
      "metadata": {
        "id": "RwtcvJQXMI3V",
        "colab_type": "code",
        "colab": {}
      },
      "source": [
        "def interval_setting(nums): \n",
        "\n",
        "    A = max(abs(nums[i]) for i in range(1, len(nums)));\n",
        "    B = max(abs(nums[i]) for i in range(0, len(nums) - 1))\n",
        "\n",
        "    left = (abs(nums[len(nums)-1]))/((abs(nums[len(nums)-1])) + B)\n",
        "    right = 1 + (A/abs(nums[0]))\n",
        "\n",
        "    return [left, right]"
      ],
      "execution_count": 0,
      "outputs": []
    },
    {
      "cell_type": "markdown",
      "metadata": {
        "id": "4lv3bm3xvM1r",
        "colab_type": "text"
      },
      "source": [
        "### Находим интервал"
      ]
    },
    {
      "cell_type": "code",
      "metadata": {
        "scrolled": true,
        "id": "JSl3R-qaG7ft",
        "colab_type": "code",
        "outputId": "6b6c1a94-25f6-48ff-87a7-35750c0ddae6",
        "colab": {
          "base_uri": "https://localhost:8080/",
          "height": 34
        }
      },
      "source": [
        "interval = interval_setting(a)\n",
        "interval"
      ],
      "execution_count": 11,
      "outputs": [
        {
          "output_type": "execute_result",
          "data": {
            "image/png": "[encoded data removed]",
            "text/latex": "$$\\left [ 6.02517820121434 \\cdot 10^{-12}, \\quad 1.02888377600418\\right ]$$",
            "text/plain": [
              "[6.02517820121434e-12, 1.02888377600418]"
            ]
          },
          "metadata": {
            "tags": []
          },
          "execution_count": 11
        }
      ]
    },
    {
      "cell_type": "markdown",
      "metadata": {
        "id": "U9LJ8osQvRZa",
        "colab_type": "text"
      },
      "source": [
        "### Находим количество корней на интервале"
      ]
    },
    {
      "cell_type": "code",
      "metadata": {
        "id": "2ZjSDOgyG7fv",
        "colab_type": "code",
        "outputId": "f3c2d897-d046-429d-fb4a-ff5755bd123d",
        "colab": {
          "base_uri": "https://localhost:8080/",
          "height": 34
        }
      },
      "source": [
        "number_of_roots = theorem_b_f(equation, Y, 6, interval)\n",
        "number_of_roots"
      ],
      "execution_count": 12,
      "outputs": [
        {
          "output_type": "execute_result",
          "data": {
            "image/png": "[encoded data removed]",
            "text/latex": "$$2$$",
            "text/plain": [
              "2"
            ]
          },
          "metadata": {
            "tags": []
          },
          "execution_count": 12
        }
      ]
    },
    {
      "cell_type": "markdown",
      "metadata": {
        "id": "GQ_MjowuwdSy",
        "colab_type": "text"
      },
      "source": [
        "### Локализуем корни"
      ]
    },
    {
      "cell_type": "code",
      "metadata": {
        "id": "Af_pD06zG7fy",
        "colab_type": "code",
        "colab": {}
      },
      "source": [
        "def roots_localization(interval, function, number_of_roots, fineness):\n",
        "    found_intervals = 0\n",
        "    intervals_with_roots = []\n",
        "    \n",
        "    step = (interval[1] - interval[0])/fineness\n",
        "    all_intervals = [[interval[0] + step*i, interval[0] + step*(i+1)] for i in range(fineness)]\n",
        "\n",
        "    for i in range(fineness):\n",
        "        if (function.subs({Y:all_intervals[i][0]}) * function.subs({Y:all_intervals[i][1]}) < 0):\n",
        "            intervals_with_roots.append(all_intervals[i])\n",
        "            found_intervals += 1\n",
        "        if found_intervals == number_of_roots:\n",
        "            return intervals_with_roots\n",
        "    else:\n",
        "        return roots_localization(interval, function, number_of_roots, fineness*5)    "
      ],
      "execution_count": 0,
      "outputs": []
    },
    {
      "cell_type": "markdown",
      "metadata": {
        "id": "7SCoGKLAAiVo",
        "colab_type": "text"
      },
      "source": [
        "### Метод Ньютона"
      ]
    },
    {
      "cell_type": "code",
      "metadata": {
        "id": "P8mKE6mgwpBG",
        "colab_type": "code",
        "colab": {}
      },
      "source": [
        "def method_Newton(function, interval, accuracy):\n",
        "    F = Y - function/diff(function, Y)\n",
        "\n",
        "    x_0 = (interval[0]+interval[1])/2\n",
        "    x_1 =F.subs({Y:x_0})\n",
        "\n",
        "    q = abs(diff(F, Y).subs({Y:x_0}))\n",
        "\n",
        "    x_n = x_1\n",
        "\n",
        "    n = 0\n",
        "\n",
        "    while q**n*abs(x_1 - x_0)/(1-q) > accuracy:\n",
        "        x_n_1 = F.subs({Y:x_n})\n",
        "        x_n = x_n_1\n",
        "        n += 1\n",
        "        \n",
        "    return x_n"
      ],
      "execution_count": 0,
      "outputs": []
    },
    {
      "cell_type": "markdown",
      "metadata": {
        "id": "442ngE3mDicz",
        "colab_type": "text"
      },
      "source": [
        "### Найдем корни методом Ньютона "
      ]
    },
    {
      "cell_type": "code",
      "metadata": {
        "id": "-X0g6o6bDh_M",
        "colab_type": "code",
        "colab": {}
      },
      "source": [
        "def find_roots(equation, intervals_with_roots, accuracy):\n",
        "    roots = []\n",
        "    for interval in intervals_with_roots:\n",
        "        root = method_Newton(equation, interval, accuracy)\n",
        "        roots.append(root)\n",
        "    return roots"
      ],
      "execution_count": 0,
      "outputs": []
    },
    {
      "cell_type": "code",
      "metadata": {
        "id": "ZKJgriBPG7f0",
        "colab_type": "code",
        "outputId": "0fe8d4c0-69cd-4dba-8eda-2e515ab0f5bb",
        "colab": {
          "base_uri": "https://localhost:8080/",
          "height": 51
        }
      },
      "source": [
        "intervals_with_roots = roots_localization(interval, equation, number_of_roots, 1000)\n",
        "for i in range(len(intervals_with_roots)):\n",
        "    print('левый предел: ',intervals_with_roots[i][0], ', правый предел: ', intervals_with_roots[i][1] )"
      ],
      "execution_count": 29,
      "outputs": [
        {
          "output_type": "stream",
          "text": [
            "левый предел:  0.0246932106299810 , правый предел:  0.0257220944059792\n",
            "левый предел:  0.0637907941179111 , правый предел:  0.0648196778939092\n"
          ],
          "name": "stdout"
        }
      ]
    },
    {
      "cell_type": "code",
      "metadata": {
        "id": "zZx14VyoG7f4",
        "colab_type": "code",
        "outputId": "7ecc548f-88c0-4999-e4bc-73747fda295d",
        "colab": {
          "base_uri": "https://localhost:8080/",
          "height": 51
        }
      },
      "source": [
        "find_roots(equation, intervals_with_roots, accuracy = 10**(-30))\n",
        "roots = find_roots(equation, intervals_with_roots, accuracy = 10**(-30))\n",
        "roots\n",
        "print('первый корень: ',roots[0])\n",
        "print('второй корень: ',roots[1])\n",
        "    "
      ],
      "execution_count": 37,
      "outputs": [
        {
          "output_type": "stream",
          "text": [
            "первый корень:  0.0250336059509307\n",
            "второй корень:  0.0647072527424343\n"
          ],
          "name": "stdout"
        }
      ]
    },
    {
      "cell_type": "code",
      "metadata": {
        "id": "NxDXGxowG7f6",
        "colab_type": "code",
        "colab": {}
      },
      "source": [
        "#solve(equation, Y)\n"
      ],
      "execution_count": 0,
      "outputs": []
    }
  ]
}